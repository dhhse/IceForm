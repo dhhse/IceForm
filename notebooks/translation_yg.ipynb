{
  "nbformat": 4,
  "nbformat_minor": 0,
  "metadata": {
    "colab": {
      "name": "translation_yg-Copy1.ipynb",
      "provenance": [],
      "collapsed_sections": [],
      "toc_visible": true
    },
    "kernelspec": {
      "display_name": "Python 3",
      "language": "python",
      "name": "python3"
    },
    "language_info": {
      "codemirror_mode": {
        "name": "ipython",
        "version": 3
      },
      "file_extension": ".py",
      "mimetype": "text/x-python",
      "name": "python",
      "nbconvert_exporter": "python",
      "pygments_lexer": "ipython3",
      "version": "3.6.9"
    }
  },
  "cells": [
    {
      "cell_type": "markdown",
      "metadata": {
        "colab_type": "text",
        "id": "kakAprAqp7_E"
      },
      "source": [
        "# Translation"
      ]
    },
    {
      "cell_type": "code",
      "metadata": {
        "colab_type": "code",
        "id": "TW8zgr-Vrwfc",
        "colab": {}
      },
      "source": [
        "import os\n",
        "from tqdm.auto import tqdm"
      ],
      "execution_count": 0,
      "outputs": []
    },
    {
      "cell_type": "code",
      "metadata": {
        "colab_type": "code",
        "id": "HQIugKwwrpTl",
        "colab": {}
      },
      "source": [
        "data = []\n",
        "\n",
        "PATH = './icelandic_parsed'\n",
        "for fname in sorted(os.listdir(PATH)):\n",
        "    with open(os.path.join(PATH, fname)) as f:\n",
        "        text = f.read().split('\\n\\n')\n",
        "    data.append([fname.strip('tx.'), text])"
      ],
      "execution_count": 0,
      "outputs": []
    },
    {
      "cell_type": "code",
      "metadata": {
        "colab_type": "code",
        "id": "uV6zBKrssXK0",
        "outputId": "3509c424-d577-4d6e-fdfd-233ca9043a46",
        "colab": {
          "base_uri": "https://localhost:8080/",
          "height": 35
        }
      },
      "source": [
        "s = 0\n",
        "for row in data:\n",
        "    s += sum(len(line) for line in row[1])\n",
        "s"
      ],
      "execution_count": 0,
      "outputs": [
        {
          "output_type": "execute_result",
          "data": {
            "text/plain": [
              "8323013"
            ]
          },
          "metadata": {
            "tags": []
          },
          "execution_count": 3
        }
      ]
    },
    {
      "cell_type": "code",
      "metadata": {
        "colab_type": "code",
        "id": "NHBhRr3XrjLJ",
        "colab": {}
      },
      "source": [
        "import json"
      ],
      "execution_count": 0,
      "outputs": []
    },
    {
      "cell_type": "markdown",
      "metadata": {
        "colab_type": "text",
        "id": "S5hbW97Eqtso"
      },
      "source": [
        "## Yandex"
      ]
    },
    {
      "cell_type": "code",
      "metadata": {
        "colab_type": "code",
        "id": "MKK2C9QQyS9p",
        "colab": {}
      },
      "source": [
        "import warnings\n",
        "warnings.filterwarnings(\"ignore\")\n",
        "import requests"
      ],
      "execution_count": 0,
      "outputs": []
    },
    {
      "cell_type": "code",
      "metadata": {
        "colab_type": "code",
        "id": "wvOlMOaSyVHZ",
        "colab": {}
      },
      "source": [
        "headers = {\n",
        "    'User-Agent': ('Mozilla/5.0 (Windows NT 6.0; rv:14.0) Gecko/20100101 '\n",
        "                   'Firefox/14.0.1'),\n",
        "    'Accept':\n",
        "    'text/html,application/xhtml+xml,application/xml;q=0.9,*/*;q=0.8',\n",
        "    'Accept-Language':\n",
        "    'ru-ru,ru;q=0.8,en-us;q=0.5,en;q=0.3',\n",
        "    'Accept-Encoding':\n",
        "    'gzip, deflate',\n",
        "    'Connection':\n",
        "    'keep-alive',\n",
        "    'DNT':\n",
        "    '1'\n",
        "}\n",
        "URL = \"https://translate.yandex.net/api/v1.5/tr.json/translate\""
      ],
      "execution_count": 0,
      "outputs": []
    },
    {
      "cell_type": "code",
      "metadata": {
        "colab_type": "code",
        "id": "adsdZDehyW6F",
        "colab": {}
      },
      "source": [
        "def translate(text, lang=\"en\"):\n",
        "    params = {\n",
        "    \"key\": KEY,\n",
        "    \"text\": text,\n",
        "    \"lang\": f\"is-{lang}\"\n",
        "    }\n",
        "    response = requests.get(URL, params=params, headers=headers)\n",
        "    return response.json()"
      ],
      "execution_count": 0,
      "outputs": []
    },
    {
      "cell_type": "code",
      "metadata": {
        "colab_type": "code",
        "id": "VkWBuNWnyY3V",
        "outputId": "7067cc2c-3518-45d3-fef4-6a0ccf14b961",
        "colab": {
          "base_uri": "https://localhost:8080/",
          "height": 35
        }
      },
      "source": [
        "translate(\"halló\", \"en\")"
      ],
      "execution_count": 0,
      "outputs": [
        {
          "output_type": "execute_result",
          "data": {
            "text/plain": [
              "{'code': 200, 'lang': 'is-en', 'text': ['hello']}"
            ]
          },
          "metadata": {
            "tags": []
          },
          "execution_count": 8
        }
      ]
    },
    {
      "cell_type": "code",
      "metadata": {
        "colab_type": "code",
        "id": "Z5phhpva1HVI",
        "colab": {}
      },
      "source": [
        "## Database"
      ],
      "execution_count": 0,
      "outputs": []
    },
    {
      "cell_type": "code",
      "metadata": {
        "id": "lEAFfZb_VnA8",
        "colab_type": "code",
        "colab": {}
      },
      "source": [
        "import sqlite3\n",
        "\n",
        "db = sqlite3.connect('translations.db')\n",
        "cur = db.cursor()"
      ],
      "execution_count": 0,
      "outputs": []
    },
    {
      "cell_type": "code",
      "metadata": {
        "id": "cubmp8R4VnBC",
        "colab_type": "code",
        "colab": {}
      },
      "source": [
        "cur.execute(\"\"\"\n",
        "CREATE TABLE docs (\n",
        "id INTEGER PRIMARY KEY AUTOINCREMENT,\n",
        "name TEXT\n",
        ")\n",
        "\"\"\")\n",
        "\n",
        "cur.execute(\"\"\"\n",
        "CREATE TABLE sentences (\n",
        "id INTEGER PRIMARY KEY AUTOINCREMENT,\n",
        "id_text INT,\n",
        "idx INT,\n",
        "text TEXT,\n",
        "udpipe TEXT\n",
        ")\n",
        "\"\"\")\n",
        "\n",
        "cur.execute(\"\"\"\n",
        "CREATE TABLE yandex_en (\n",
        "id INTEGER PRIMARY KEY,\n",
        "text TEXT\n",
        "udpipe TEXT\n",
        ")\n",
        "\"\"\")\n",
        "\n",
        "db.commit()"
      ],
      "execution_count": 0,
      "outputs": []
    },
    {
      "cell_type": "markdown",
      "metadata": {
        "id": "iV_YYODjVnBG",
        "colab_type": "text"
      },
      "source": [
        "Сохранить тексты в базу"
      ]
    },
    {
      "cell_type": "code",
      "metadata": {
        "id": "lhukBWI7VnBH",
        "colab_type": "code",
        "colab": {}
      },
      "source": [
        "texts = []\n",
        "for idx, row in enumerate(data):\n",
        "    texts.append((idx+1, row[0]))\n",
        "cur.executemany('INSERT INTO docs VALUES (?, ?)', texts)\n",
        "db.commit()"
      ],
      "execution_count": 0,
      "outputs": []
    },
    {
      "cell_type": "code",
      "metadata": {
        "id": "_yO_40nzVnBM",
        "colab_type": "code",
        "colab": {}
      },
      "source": [
        "sentences = []\n",
        "\n",
        "for idx, row in enumerate(data):\n",
        "    for ids, sentence in enumerate(row[1]):\n",
        "        sentences.append((idx+1, ids+1, sentence))\n",
        "cur.executemany('INSERT INTO sentences (id_text, idx, text) VALUES (?, ?, ?)', sentences)\n",
        "db.commit()"
      ],
      "execution_count": 0,
      "outputs": []
    },
    {
      "cell_type": "code",
      "metadata": {
        "id": "ilAfccAlVnBQ",
        "colab_type": "code",
        "colab": {}
      },
      "source": [
        "cur.execute('SELECT name, id FROM docs')\n",
        "text_indices = {key: value for key, value in cur.fetchall()}"
      ],
      "execution_count": 0,
      "outputs": []
    },
    {
      "cell_type": "markdown",
      "metadata": {
        "id": "HER41JqAVnBU",
        "colab_type": "text"
      },
      "source": [
        "Это то, что переведено другим способом"
      ]
    },
    {
      "cell_type": "code",
      "metadata": {
        "id": "ychSYF3dVnBW",
        "colab_type": "code",
        "colab": {}
      },
      "source": [
        "for fname in os.listdir('./yandex_en/'):\n",
        "    try:\n",
        "        data = json.load(open(os.path.join('./yandex_en/', fname)))\n",
        "        ind = text_indices[data['fname']]\n",
        "        start = cur.execute('SELECT min(id) FROM sentences WHERE id_text = ?;', (ind,)).fetchone()[0]\n",
        "        sentences = data['lines']\n",
        "        result = []\n",
        "        for idx, sent in enumerate(sentences):\n",
        "            if sent[1] is not None:\n",
        "                result.append((start+idx, sent[1][0]))\n",
        "        cur.executemany('INSERT INTO yandex_en (id, text) VALUES (?, ?)', result)\n",
        "        db.commit()\n",
        "    except Exception as e:\n",
        "        print(e)\n",
        "        print(fname)"
      ],
      "execution_count": 0,
      "outputs": []
    },
    {
      "cell_type": "markdown",
      "metadata": {
        "id": "E9_vs6-uVnBa",
        "colab_type": "text"
      },
      "source": [
        "### Yandex"
      ]
    },
    {
      "cell_type": "code",
      "metadata": {
        "id": "vu33VWU1VnBb",
        "colab_type": "code",
        "colab": {}
      },
      "source": [
        "def get_sentences(lang, limit=100):\n",
        "    cur.execute(f\"\"\"\n",
        "    SELECT id, text FROM sentences WHERE id NOT IN (\n",
        "        SELECT id FROM yandex_{lang}\n",
        "    )\n",
        "    LIMIT ?\n",
        "    \"\"\", (limit,))\n",
        "    data = cur.fetchall()\n",
        "    #print(data)\n",
        "    result = []\n",
        "    summ = 0\n",
        "    for row in data:\n",
        "        try:\n",
        "            sentence = translate(row[1], lang).get('text')\n",
        "            assert len(sentence) == 1\n",
        "            sentence = sentence[0]\n",
        "            result.append((row[0], sentence,))\n",
        "        except Exception as e:\n",
        "            pass\n",
        "        summ += len(row[1])\n",
        "    if len(result) != limit:\n",
        "        print(len(result), end=' ')\n",
        "    cur.executemany(f'INSERT INTO yandex_{lang} (id, text) VALUES (?, ?)', result)\n",
        "    db.commit()\n",
        "    return summ"
      ],
      "execution_count": 0,
      "outputs": []
    },
    {
      "cell_type": "code",
      "metadata": {
        "id": "BTeC0LveVnBf",
        "colab_type": "code",
        "colab": {}
      },
      "source": [
        "S = 0\n",
        "for _ in tqdm(range(100)):\n",
        "    get_sentences('en', limit=100)"
      ],
      "execution_count": 0,
      "outputs": []
    },
    {
      "cell_type": "code",
      "metadata": {
        "id": "-lnX9-t1VnBj",
        "colab_type": "code",
        "colab": {}
      },
      "source": [
        "KEYS = [\n",
        "\n",
        "]"
      ],
      "execution_count": 0,
      "outputs": []
    },
    {
      "cell_type": "code",
      "metadata": {
        "id": "em-WD8GjVnBn",
        "colab_type": "code",
        "colab": {}
      },
      "source": [
        "for key, s in KEYS:\n",
        "    S = s\n",
        "    KEY = key\n",
        "    while S < 980000:\n",
        "        S += get_sentences('sv', limit=100)\n",
        "    print(S)"
      ],
      "execution_count": 0,
      "outputs": []
    },
    {
      "cell_type": "code",
      "metadata": {
        "id": "FEhueWcbVnBx",
        "colab_type": "code",
        "colab": {}
      },
      "source": [
        "SELECT count(id)*1.0/101359.0 FROM yandex_en;"
      ],
      "execution_count": 0,
      "outputs": []
    },
    {
      "cell_type": "code",
      "metadata": {
        "id": "ZYpQZFHjVnB3",
        "colab_type": "code",
        "colab": {}
      },
      "source": [
        "sv"
      ],
      "execution_count": 0,
      "outputs": []
    },
    {
      "cell_type": "markdown",
      "metadata": {
        "id": "6ujrmm1kVnB6",
        "colab_type": "text"
      },
      "source": [
        "### Google"
      ]
    },
    {
      "cell_type": "code",
      "metadata": {
        "id": "s3gHyTaiVnB7",
        "colab_type": "code",
        "colab": {}
      },
      "source": [
        "from googletrans import Translator\n",
        "translator = Translator()"
      ],
      "execution_count": 0,
      "outputs": []
    },
    {
      "cell_type": "code",
      "metadata": {
        "id": "BnJJEa7vVnB_",
        "colab_type": "code",
        "colab": {}
      },
      "source": [
        "class Proxy:\n",
        "    def __init__(self, fname):\n",
        "        with open(fname) as f:\n",
        "            self.proxies = [s.strip() for s in f.readlines()]\n",
        "    \n",
        "    def new(self):\n",
        "        idx = len(self.proxies)-1\n",
        "        del self.proxies[idx]\n",
        "        current = self.proxies[-1]\n",
        "        return {'http': current, 'https': current}\n",
        "    \n",
        "    def current(self):\n",
        "        current = self.proxies[-1]\n",
        "        return {'http': current, 'https': current}"
      ],
      "execution_count": 0,
      "outputs": []
    },
    {
      "cell_type": "code",
      "metadata": {
        "id": "yxPXWLL2VnCC",
        "colab_type": "code",
        "colab": {}
      },
      "source": [
        "PROXY = Proxy('proxies.txt')"
      ],
      "execution_count": 0,
      "outputs": []
    },
    {
      "cell_type": "code",
      "metadata": {
        "id": "mK0zhz4rVnCG",
        "colab_type": "code",
        "outputId": "7012d4a7-dbba-4323-b8a1-20d2ba7894c5",
        "colab": {}
      },
      "source": [
        "PROXY.current()"
      ],
      "execution_count": 0,
      "outputs": [
        {
          "output_type": "execute_result",
          "data": {
            "text/plain": [
              "{'http': '114.239.29.244:9999', 'https': '114.239.29.244:9999'}"
            ]
          },
          "metadata": {
            "tags": []
          },
          "execution_count": 11
        }
      ]
    },
    {
      "cell_type": "code",
      "metadata": {
        "id": "QKyft1RDVnCK",
        "colab_type": "code",
        "colab": {}
      },
      "source": [
        "def get_sentences(lang, limit=100):\n",
        "    cur.execute(f\"\"\"\n",
        "    SELECT id, text FROM sentences WHERE id NOT IN (\n",
        "        SELECT id FROM google_{lang}\n",
        "    )\n",
        "    LIMIT ?\n",
        "    \"\"\", (limit,))\n",
        "    data = cur.fetchall()\n",
        "    result = []\n",
        "    translator = Translator(proxies=PROXY.current(), timeout=2)\n",
        "    for row in tqdm(data, leave=False):\n",
        "        try:\n",
        "            sentence = translator.translate(row[1], src='is', dest=lang)\n",
        "            sentence = sentence.text\n",
        "            result.append((row[0], sentence,))\n",
        "        except Exception as e:\n",
        "            translator = Translator(proxies=PROXY.new(), timeout=2)\n",
        "    if len(result) != limit:\n",
        "        print(len(result), end=' ')\n",
        "    cur.executemany(f'INSERT INTO google_{lang} (id, text) VALUES (?, ?)', result)\n",
        "    db.commit()"
      ],
      "execution_count": 0,
      "outputs": []
    },
    {
      "cell_type": "code",
      "metadata": {
        "id": "6GCqz2CTVnCO",
        "colab_type": "code",
        "colab": {}
      },
      "source": [
        "from IPython.display import clear_output"
      ],
      "execution_count": 0,
      "outputs": []
    },
    {
      "cell_type": "code",
      "metadata": {
        "id": "A1pUqCFnVnCR",
        "colab_type": "code",
        "outputId": "8d898ea4-57c3-4e06-8ff4-cd3e1c57c520",
        "colab": {
          "referenced_widgets": [
            "4d5ef72f5828485fb220865559302a78",
            "",
            "32e22a5c33a045799ccf7c79eb4ad13b",
            "38ce095a2535454c9aa0ed178e86a3aa",
            "22d7d7cc0f674685813737ba109b83cd",
            "7dfb868b5eb94eac9f5bb23e62af403c",
            "ca91e60a4eca404e976d7ff93be28f1a",
            "8079be03253b4e21abb973fa6588051c",
            "88b9aea5d86042e8b103987f4455453d",
            "e8e2dd4b7d5848ac9128912ed56dedd5",
            "e702138d0e4f41d8a8fd35e91c163ee1",
            "6086c047154a41679fbd8c60bc5a89a5",
            "85c6d4cc76d2476783d27bb2eebb253f",
            "326d9898333c43ac943b890eaa913d41",
            "d7ee468d188643bb8956e31e478f610e",
            "98091dbb23774fbca11f97e50716128f"
          ]
        }
      },
      "source": [
        "while True:\n",
        "    try:\n",
        "        PROXY = Proxy('proxies.txt')\n",
        "        for _ in tqdm(range(1000)):\n",
        "            get_sentences('da', limit=100)\n",
        "    except IndexError:\n",
        "        clear_output()"
      ],
      "execution_count": 0,
      "outputs": [
        {
          "output_type": "display_data",
          "data": {
            "application/vnd.jupyter.widget-view+json": {
              "model_id": "4d5ef72f5828485fb220865559302a78",
              "version_major": 2,
              "version_minor": 0
            },
            "text/plain": [
              "HBox(children=(IntProgress(value=0, max=1000), HTML(value='')))"
            ]
          },
          "metadata": {
            "tags": []
          }
        }
      ]
    },
    {
      "cell_type": "code",
      "metadata": {
        "id": "QGvCBUxrVnDl",
        "colab_type": "code",
        "colab": {}
      },
      "source": [
        "translator = Translator()\n",
        "res = translator.translate('Ekki var honum fjárhagur sinn hægur , átti lendur miklar en minna lausafé .', src='is', dest='en')"
      ],
      "execution_count": 0,
      "outputs": []
    }
  ]
}