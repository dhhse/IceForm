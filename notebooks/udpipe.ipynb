{
  "nbformat": 4,
  "nbformat_minor": 0,
  "metadata": {
    "kernelspec": {
      "display_name": "Python 3",
      "language": "python",
      "name": "python3"
    },
    "language_info": {
      "codemirror_mode": {
        "name": "ipython",
        "version": 3
      },
      "file_extension": ".py",
      "mimetype": "text/x-python",
      "name": "python",
      "nbconvert_exporter": "python",
      "pygments_lexer": "ipython3",
      "version": "3.6.9"
    },
    "colab": {
      "name": "udpipe.ipynb",
      "provenance": [],
      "collapsed_sections": []
    },
    "widgets": {
      "application/vnd.jupyter.widget-state+json": {}
    }
  },
  "cells": [
    {
      "cell_type": "code",
      "metadata": {
        "id": "59YWgbAwx9HB",
        "colab_type": "code",
        "outputId": "9d55ac29-2b55-4f0e-e925-a9c6a5c175d3",
        "colab": {
          "base_uri": "https://localhost:8080/",
          "height": 217
        }
      },
      "source": [
        "! wget https://raw.githubusercontent.com/hse-python-2nd-2019/seminars/master/UDPipe/model.py"
      ],
      "execution_count": 0,
      "outputs": [
        {
          "output_type": "stream",
          "text": [
            "--2019-12-18 06:53:38--  https://raw.githubusercontent.com/hse-python-2nd-2019/seminars/master/UDPipe/model.py\n",
            "Resolving raw.githubusercontent.com (raw.githubusercontent.com)... 151.101.0.133, 151.101.64.133, 151.101.128.133, ...\n",
            "Connecting to raw.githubusercontent.com (raw.githubusercontent.com)|151.101.0.133|:443... connected.\n",
            "HTTP request sent, awaiting response... 200 OK\n",
            "Length: 2067 (2.0K) [text/plain]\n",
            "Saving to: ‘model.py’\n",
            "\n",
            "\rmodel.py              0%[                    ]       0  --.-KB/s               \rmodel.py            100%[===================>]   2.02K  --.-KB/s    in 0s      \n",
            "\n",
            "2019-12-18 06:53:39 (39.4 MB/s) - ‘model.py’ saved [2067/2067]\n",
            "\n"
          ],
          "name": "stdout"
        }
      ]
    },
    {
      "cell_type": "code",
      "metadata": {
        "id": "ZpRuFT5KyLxE",
        "colab_type": "code",
        "outputId": "7da92049-2100-4055-8d17-4f345e0fa1fb",
        "colab": {
          "base_uri": "https://localhost:8080/",
          "height": 219
        }
      },
      "source": [
        "! pip install ufal.udpipe"
      ],
      "execution_count": 0,
      "outputs": [
        {
          "output_type": "stream",
          "text": [
            "Collecting ufal.udpipe\n",
            "\u001b[?25l  Downloading https://files.pythonhosted.org/packages/e5/72/2b8b9dc7c80017c790bb3308bbad34b57accfed2ac2f1f4ab252ff4e9cb2/ufal.udpipe-1.2.0.3.tar.gz (304kB)\n",
            "\r\u001b[K     |█                               | 10kB 26.8MB/s eta 0:00:01\r\u001b[K     |██▏                             | 20kB 1.7MB/s eta 0:00:01\r\u001b[K     |███▎                            | 30kB 2.6MB/s eta 0:00:01\r\u001b[K     |████▎                           | 40kB 1.7MB/s eta 0:00:01\r\u001b[K     |█████▍                          | 51kB 2.1MB/s eta 0:00:01\r\u001b[K     |██████▌                         | 61kB 2.5MB/s eta 0:00:01\r\u001b[K     |███████▌                        | 71kB 2.9MB/s eta 0:00:01\r\u001b[K     |████████▋                       | 81kB 3.3MB/s eta 0:00:01\r\u001b[K     |█████████▊                      | 92kB 3.7MB/s eta 0:00:01\r\u001b[K     |██████████▊                     | 102kB 2.8MB/s eta 0:00:01\r\u001b[K     |███████████▉                    | 112kB 2.8MB/s eta 0:00:01\r\u001b[K     |█████████████                   | 122kB 2.8MB/s eta 0:00:01\r\u001b[K     |██████████████                  | 133kB 2.8MB/s eta 0:00:01\r\u001b[K     |███████████████                 | 143kB 2.8MB/s eta 0:00:01\r\u001b[K     |████████████████▏               | 153kB 2.8MB/s eta 0:00:01\r\u001b[K     |█████████████████▎              | 163kB 2.8MB/s eta 0:00:01\r\u001b[K     |██████████████████▎             | 174kB 2.8MB/s eta 0:00:01\r\u001b[K     |███████████████████▍            | 184kB 2.8MB/s eta 0:00:01\r\u001b[K     |████████████████████▌           | 194kB 2.8MB/s eta 0:00:01\r\u001b[K     |█████████████████████▌          | 204kB 2.8MB/s eta 0:00:01\r\u001b[K     |██████████████████████▋         | 215kB 2.8MB/s eta 0:00:01\r\u001b[K     |███████████████████████▊        | 225kB 2.8MB/s eta 0:00:01\r\u001b[K     |████████████████████████▉       | 235kB 2.8MB/s eta 0:00:01\r\u001b[K     |█████████████████████████▉      | 245kB 2.8MB/s eta 0:00:01\r\u001b[K     |███████████████████████████     | 256kB 2.8MB/s eta 0:00:01\r\u001b[K     |████████████████████████████    | 266kB 2.8MB/s eta 0:00:01\r\u001b[K     |█████████████████████████████   | 276kB 2.8MB/s eta 0:00:01\r\u001b[K     |██████████████████████████████▏ | 286kB 2.8MB/s eta 0:00:01\r\u001b[K     |███████████████████████████████▎| 296kB 2.8MB/s eta 0:00:01\r\u001b[K     |████████████████████████████████| 307kB 2.8MB/s \n",
            "\u001b[?25hBuilding wheels for collected packages: ufal.udpipe\n",
            "  Building wheel for ufal.udpipe (setup.py) ... \u001b[?25l\u001b[?25hdone\n",
            "  Created wheel for ufal.udpipe: filename=ufal.udpipe-1.2.0.3-cp36-cp36m-linux_x86_64.whl size=5625838 sha256=01e2ff81f12b38a5de7ee8be5ea311f0e4e9eb70b892c1556683aa9e1de567a3\n",
            "  Stored in directory: /root/.cache/pip/wheels/0c/9d/db/6d3404c33da5b7adb6c6972853efb6a27649d3ba15f7e9bebb\n",
            "Successfully built ufal.udpipe\n",
            "Installing collected packages: ufal.udpipe\n",
            "Successfully installed ufal.udpipe-1.2.0.3\n"
          ],
          "name": "stdout"
        }
      ]
    },
    {
      "cell_type": "code",
      "metadata": {
        "id": "fCbD7fibx9HG",
        "colab_type": "code",
        "colab": {}
      },
      "source": [
        "PATH = './'\n",
        "\n",
        "langs = [\n",
        "    ('de', 'german-gsd-ud-2.4-190531.udpipe'),\n",
        "    ('sv', 'swedish-talbanken-ud-2.4-190531.udpipe'),\n",
        "    ('da', 'danish-ddt-ud-2.4-190531.udpipe'),\n",
        "    ('en', 'english-gum-ud-2.4-190531.udpipe')\n",
        "]"
      ],
      "execution_count": 0,
      "outputs": []
    },
    {
      "cell_type": "code",
      "metadata": {
        "id": "DIlKxZ_kx9HJ",
        "colab_type": "code",
        "colab": {}
      },
      "source": [
        "import ufal.udpipe\n",
        "from model import Model\n",
        "from tqdm.auto import tqdm\n",
        "import os\n",
        "import re"
      ],
      "execution_count": 0,
      "outputs": []
    },
    {
      "cell_type": "code",
      "metadata": {
        "id": "4mbDmfvex9HN",
        "colab_type": "code",
        "colab": {}
      },
      "source": [
        "import sqlite3\n",
        "db = sqlite3.connect('./translations.db')\n",
        "cur = db.cursor()"
      ],
      "execution_count": 0,
      "outputs": []
    },
    {
      "cell_type": "code",
      "metadata": {
        "id": "tQqXvAzCx9HQ",
        "colab_type": "code",
        "colab": {}
      },
      "source": [
        "for lang in ['en', 'da', 'sv', 'de']:\n",
        "    cur.execute(f'ALTER TABLE yandex_{lang} ADD udpipe TEXT')\n",
        "    cur.execute(f'ALTER TABLE google_{lang} ADD udpipe TEXT')\n",
        "    db.commit()"
      ],
      "execution_count": 0,
      "outputs": []
    },
    {
      "cell_type": "code",
      "metadata": {
        "id": "9-NeCUDbx9HT",
        "colab_type": "code",
        "outputId": "7ee2bd5f-9109-409f-9228-14bd294e88a2",
        "colab": {}
      },
      "source": [
        "lang = 'en'\n",
        "source = 'yandex'\n",
        "cur.execute(f'SELECT id, text FROM {source}_{lang} WHERE udpipe IS NULL LIMIT 3')\n",
        "texts = cur.fetchall()\n",
        "texts"
      ],
      "execution_count": 0,
      "outputs": [
        {
          "output_type": "execute_result",
          "data": {
            "text/plain": [
              "[(1, 'Ufeig was a man named .'),\n",
              " (2, 'He lived in the north the story starts in the Dungeon .'),\n",
              " (3,\n",
              "  'He was Skíðason but his mother was called Gunnlaug , the daughter of Ófeigs from Skörðum .')]"
            ]
          },
          "metadata": {
            "tags": []
          },
          "execution_count": 18
        }
      ]
    },
    {
      "cell_type": "code",
      "metadata": {
        "id": "ULNSZdWnx9HX",
        "colab_type": "code",
        "colab": {}
      },
      "source": [
        "def get_conllu(pair, model):\n",
        "    idx, text = pair\n",
        "    text = text.replace('.', '. ')\n",
        "    sentences = model.tokenize(text)\n",
        "    for s in sentences:\n",
        "        model.tag(s)\n",
        "        model.parse(s)\n",
        "    conllu = model.write(sentences, \"conllu\")\n",
        "    conllu = re.sub('# newdoc\\n# newpar\\n# sent_id = 1\\n', '', conllu)\n",
        "    return conllu, idx"
      ],
      "execution_count": 0,
      "outputs": []
    },
    {
      "cell_type": "code",
      "metadata": {
        "id": "Y6phcuKyx9Ha",
        "colab_type": "code",
        "outputId": "c940dc1d-bd9e-41d3-e3c6-7baf0bc3156f",
        "colab": {
          "referenced_widgets": [
            "5ad0f2663d424a74a5f773aa06ccace5"
          ]
        }
      },
      "source": [
        "data = []\n",
        "model = Model(os.path.join(PATH, langs[3][1]))\n",
        "for pair in tqdm(texts):\n",
        "    data.append(get_conllu(pair))"
      ],
      "execution_count": 0,
      "outputs": [
        {
          "output_type": "display_data",
          "data": {
            "application/vnd.jupyter.widget-view+json": {
              "model_id": "5ad0f2663d424a74a5f773aa06ccace5",
              "version_major": 2,
              "version_minor": 0
            },
            "text/plain": [
              "HBox(children=(IntProgress(value=0, max=3), HTML(value='')))"
            ]
          },
          "metadata": {
            "tags": []
          }
        },
        {
          "output_type": "stream",
          "text": [
            "\n"
          ],
          "name": "stdout"
        }
      ]
    },
    {
      "cell_type": "code",
      "metadata": {
        "id": "FCPyoGarx9Hd",
        "colab_type": "code",
        "colab": {}
      },
      "source": [
        "cur.executemany(f'UPDATE {source}_{lang} SET udpipe = ? WHERE id = ?', data)\n",
        "db.commit()"
      ],
      "execution_count": 0,
      "outputs": []
    },
    {
      "cell_type": "code",
      "metadata": {
        "id": "YwFBELekx9Hg",
        "colab_type": "code",
        "colab": {}
      },
      "source": [
        "langs = {\n",
        "    'de': 'german-gsd-ud-2.4-190531.udpipe',\n",
        "    'sv': 'swedish-talbanken-ud-2.4-190531.udpipe',\n",
        "    'da': 'danish-ddt-ud-2.4-190531.udpipe',\n",
        "    'en': 'english-gum-ud-2.4-190531.udpipe'\n",
        "}"
      ],
      "execution_count": 0,
      "outputs": []
    },
    {
      "cell_type": "code",
      "metadata": {
        "id": "Fal2X96ix9Hj",
        "colab_type": "code",
        "outputId": "9c2238f3-8fca-4824-96a6-fd525d0dc5dc",
        "colab": {}
      },
      "source": [
        "cur.execute(f'SELECT count(id) FROM {source}_{lang} WHERE udpipe IS NULL')\n",
        "cur.fetchone()"
      ],
      "execution_count": 0,
      "outputs": [
        {
          "output_type": "execute_result",
          "data": {
            "text/plain": [
              "(101246,)"
            ]
          },
          "metadata": {
            "tags": []
          },
          "execution_count": 41
        }
      ]
    },
    {
      "cell_type": "code",
      "metadata": {
        "id": "ku8v_X_Yx9Hm",
        "colab_type": "code",
        "colab": {}
      },
      "source": [
        "def parse_batch(source, lang, step=100):\n",
        "    cur.execute(f'SELECT id, text FROM {source}_{lang} WHERE udpipe IS NULL LIMIT {step}')\n",
        "    texts = cur.fetchall()\n",
        "    data = []\n",
        "    model = Model(os.path.join(PATH, langs[lang]))\n",
        "    for pair in tqdm(texts, leave=False):\n",
        "        try:\n",
        "          data.append(get_conllu(pair, model))\n",
        "        except Exception as e:\n",
        "          print(e)\n",
        "    cur.executemany(f'UPDATE {source}_{lang} SET udpipe = ? WHERE id = ?', data)\n",
        "    db.commit()\n",
        "    if len(data) > 0:\n",
        "        return True\n",
        "    else:\n",
        "        return False"
      ],
      "execution_count": 0,
      "outputs": []
    },
    {
      "cell_type": "code",
      "metadata": {
        "id": "7XJy-9KWztag",
        "colab_type": "code",
        "colab": {}
      },
      "source": [
        "cur.execute(\"UPDATE yandex_da SET udpipe = NULL\")\n",
        "db.commit()"
      ],
      "execution_count": 0,
      "outputs": []
    },
    {
      "cell_type": "code",
      "metadata": {
        "id": "FcL4n9qhx9Hq",
        "colab_type": "code",
        "colab": {}
      },
      "source": [
        "source = 'google'\n",
        "step = 1000\n",
        "for lang in ['en', 'da', 'sv', 'de']:\n",
        "    print(lang)\n",
        "    cur.execute(f'SELECT count(id) FROM {source}_{lang} WHERE udpipe IS NULL')\n",
        "    n = int(cur.fetchone()[0] / step + 1)\n",
        "    for _ in tqdm(range(n)):\n",
        "        parse_batch(source=source, lang=lang, step=step)"
      ],
      "execution_count": 0,
      "outputs": []
    },
    {
      "cell_type": "code",
      "metadata": {
        "id": "VouHYW1O-VvS",
        "colab_type": "code",
        "outputId": "36b3bf4f-ad8e-4435-e5d1-d9b7299e4667",
        "colab": {
          "base_uri": "https://localhost:8080/",
          "height": 128
        }
      },
      "source": [
        "from google.colab import drive\n",
        "drive.mount('/content/drive')"
      ],
      "execution_count": 0,
      "outputs": [
        {
          "output_type": "stream",
          "text": [
            "Go to this URL in a browser: https://accounts.google.com/o/oauth2/auth?client_id=947318989803-6bn6qk8qdgf4n4g3pfee6491hc0brc4i.apps.googleusercontent.com&redirect_uri=urn%3aietf%3awg%3aoauth%3a2.0%3aoob&response_type=code&scope=email%20https%3a%2f%2fwww.googleapis.com%2fauth%2fdocs.test%20https%3a%2f%2fwww.googleapis.com%2fauth%2fdrive%20https%3a%2f%2fwww.googleapis.com%2fauth%2fdrive.photos.readonly%20https%3a%2f%2fwww.googleapis.com%2fauth%2fpeopleapi.readonly\n",
            "\n",
            "Enter your authorization code:\n",
            "··········\n",
            "Mounted at /content/drive\n"
          ],
          "name": "stdout"
        }
      ]
    },
    {
      "cell_type": "code",
      "metadata": {
        "id": "YJrUvLme-puV",
        "colab_type": "code",
        "outputId": "6d64f2ac-aa92-467a-9fb2-debd93d43217",
        "colab": {
          "base_uri": "https://localhost:8080/",
          "height": 35
        }
      },
      "source": [
        "! ls -sh /content/translations.db"
      ],
      "execution_count": 0,
      "outputs": [
        {
          "output_type": "stream",
          "text": [
            "682M /content/translations.db\n"
          ],
          "name": "stdout"
        }
      ]
    },
    {
      "cell_type": "code",
      "metadata": {
        "id": "oX2Lg8BFNoIp",
        "colab_type": "code",
        "colab": {}
      },
      "source": [
        "! cp \"/content/translations.db\" \"/content/drive/My Drive/Исследования/DH 19-20 Формульные конструкции/Данные\""
      ],
      "execution_count": 0,
      "outputs": []
    }
  ]
}