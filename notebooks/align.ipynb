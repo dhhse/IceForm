{
 "cells": [
  {
   "cell_type": "code",
   "execution_count": 13,
   "metadata": {},
   "outputs": [],
   "source": [
    "import sqlite3\n",
    "import pandas as pd\n",
    "from nltk.tokenize import wordpunct_tokenize"
   ]
  },
  {
   "cell_type": "code",
   "execution_count": 2,
   "metadata": {},
   "outputs": [],
   "source": [
    "db = sqlite3.connect('./translate/translations.db')\n",
    "cur = db.cursor()"
   ]
  },
  {
   "cell_type": "code",
   "execution_count": 16,
   "metadata": {},
   "outputs": [],
   "source": [
    "def normalize(text):\n",
    "    try:\n",
    "        text = wordpunct_tokenize(text)\n",
    "        text = [word.lower() for word in text]\n",
    "        return ' '.join(text)\n",
    "    except:\n",
    "        return ''"
   ]
  },
  {
   "cell_type": "code",
   "execution_count": 29,
   "metadata": {},
   "outputs": [],
   "source": [
    "def save_file(lang):\n",
    "    source1 = 'google'\n",
    "    source2 = 'yandex'\n",
    "    cur.execute(f'SELECT sentences.text, {source1}_{lang}.text FROM sentences JOIN {source1}_{lang} ON sentences.id = {source1}_{lang}.id')\n",
    "    texts = pd.DataFrame(cur.fetchall())\n",
    "    cur.execute(f'SELECT sentences.text, {source2}_{lang}.text FROM sentences JOIN {source2}_{lang} ON sentences.id = {source2}_{lang}.id')\n",
    "    texts = pd.concat([texts, pd.DataFrame(cur.fetchall())], axis=0).reset_index()[[0, 1]]\n",
    "    texts[0] = texts[0].apply(normalize)\n",
    "    texts[1] = texts[1].apply(normalize)\n",
    "    texts[2] = '|||'\n",
    "    texts[[0, 2, 1]].to_csv(f'is_{lang}.txt', sep=' ', index=None, header=None, quotechar=' ')\n",
    "    return True"
   ]
  },
  {
   "cell_type": "code",
   "execution_count": 30,
   "metadata": {},
   "outputs": [
    {
     "data": {
      "text/plain": [
       "True"
      ]
     },
     "execution_count": 30,
     "metadata": {},
     "output_type": "execute_result"
    }
   ],
   "source": [
    "save_file('en')"
   ]
  },
  {
   "cell_type": "code",
   "execution_count": 31,
   "metadata": {},
   "outputs": [
    {
     "data": {
      "text/plain": [
       "True"
      ]
     },
     "execution_count": 31,
     "metadata": {},
     "output_type": "execute_result"
    }
   ],
   "source": [
    "save_file('de')"
   ]
  },
  {
   "cell_type": "code",
   "execution_count": 32,
   "metadata": {},
   "outputs": [
    {
     "data": {
      "text/plain": [
       "True"
      ]
     },
     "execution_count": 32,
     "metadata": {},
     "output_type": "execute_result"
    }
   ],
   "source": [
    "save_file('sv')"
   ]
  },
  {
   "cell_type": "code",
   "execution_count": 33,
   "metadata": {},
   "outputs": [
    {
     "data": {
      "text/plain": [
       "True"
      ]
     },
     "execution_count": 33,
     "metadata": {},
     "output_type": "execute_result"
    }
   ],
   "source": [
    "save_file('da')"
   ]
  }
 ],
 "metadata": {
  "kernelspec": {
   "display_name": "Python 3",
   "language": "python",
   "name": "python3"
  },
  "language_info": {
   "codemirror_mode": {
    "name": "ipython",
    "version": 3
   },
   "file_extension": ".py",
   "mimetype": "text/x-python",
   "name": "python",
   "nbconvert_exporter": "python",
   "pygments_lexer": "ipython3",
   "version": "3.6.9"
  }
 },
 "nbformat": 4,
 "nbformat_minor": 2
}
