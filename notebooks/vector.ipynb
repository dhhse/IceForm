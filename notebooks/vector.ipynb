{
 "cells": [
  {
   "cell_type": "code",
   "execution_count": 1,
   "metadata": {},
   "outputs": [],
   "source": [
    "from gensim.models import FastText, Word2Vec\n",
    "import sqlite3\n",
    "from nltk.tokenize import wordpunct_tokenize\n",
    "from tqdm.auto import tqdm\n",
    "from collections import Counter\n",
    "import pickle\n",
    "import pandas as pd\n",
    "import os\n",
    "from bs4 import BeautifulSoup"
   ]
  },
  {
   "cell_type": "code",
   "execution_count": 13,
   "metadata": {},
   "outputs": [],
   "source": [
    "DB = './translate/translations.db'\n",
    "db = sqlite3.connect(DB)\n",
    "cur = db.cursor()"
   ]
  },
  {
   "cell_type": "code",
   "execution_count": 14,
   "metadata": {},
   "outputs": [],
   "source": [
    "cur.execute('SELECT text FROM sentences')\n",
    "texts = [wordpunct_tokenize(text[0].lower()) for text in cur.fetchall()]"
   ]
  },
  {
   "cell_type": "code",
   "execution_count": 15,
   "metadata": {},
   "outputs": [],
   "source": [
    "ft = FastText(texts, workers=-1, size=300, min_count=10, iter=5)"
   ]
  },
  {
   "cell_type": "code",
   "execution_count": 16,
   "metadata": {},
   "outputs": [
    {
     "data": {
      "text/plain": [
       "[('manns', 0.49959316849708557),\n",
       " ('manna', 0.48749732971191406),\n",
       " ('manni', 0.48149383068084717),\n",
       " ('mannaður', 0.4410877525806427),\n",
       " ('manninn', 0.4307960271835327),\n",
       " ('mannkaup', 0.4208546280860901),\n",
       " ('mannamunur', 0.4096454381942749),\n",
       " ('mannmargt', 0.39843112230300903),\n",
       " ('manndóm', 0.39427629113197327),\n",
       " ('austmann', 0.38897883892059326)]"
      ]
     },
     "execution_count": 16,
     "metadata": {},
     "output_type": "execute_result"
    }
   ],
   "source": [
    "ft.wv.most_similar('mann')"
   ]
  },
  {
   "cell_type": "code",
   "execution_count": 17,
   "metadata": {},
   "outputs": [],
   "source": [
    "del texts"
   ]
  },
  {
   "cell_type": "code",
   "execution_count": 7,
   "metadata": {},
   "outputs": [],
   "source": []
  },
  {
   "cell_type": "code",
   "execution_count": 18,
   "metadata": {},
   "outputs": [
    {
     "ename": "MemoryError",
     "evalue": "",
     "output_type": "error",
     "traceback": [
      "\u001b[0;31m---------------------------------------------------------------------------\u001b[0m",
      "\u001b[0;31mMemoryError\u001b[0m                               Traceback (most recent call last)",
      "\u001b[0;32m<ipython-input-18-b269e0536197>\u001b[0m in \u001b[0;36m<module>\u001b[0;34m\u001b[0m\n\u001b[0;32m----> 1\u001b[0;31m \u001b[0mpickle\u001b[0m\u001b[0;34m.\u001b[0m\u001b[0mdump\u001b[0m\u001b[0;34m(\u001b[0m\u001b[0mft\u001b[0m\u001b[0;34m,\u001b[0m \u001b[0mopen\u001b[0m\u001b[0;34m(\u001b[0m\u001b[0;34m'ft.pkl'\u001b[0m\u001b[0;34m,\u001b[0m \u001b[0;34m'wb'\u001b[0m\u001b[0;34m)\u001b[0m\u001b[0;34m)\u001b[0m\u001b[0;34m\u001b[0m\u001b[0;34m\u001b[0m\u001b[0m\n\u001b[0m",
      "\u001b[0;31mMemoryError\u001b[0m: "
     ]
    }
   ],
   "source": [
    "pickle.dump(ft, open('ft.pkl', 'wb'))"
   ]
  },
  {
   "cell_type": "code",
   "execution_count": null,
   "metadata": {},
   "outputs": [],
   "source": []
  },
  {
   "cell_type": "code",
   "execution_count": null,
   "metadata": {},
   "outputs": [],
   "source": [
    "freqdict = Counter()\n",
    "for text in tqdm(texts):\n",
    "    freqdict += Counter(text)"
   ]
  },
  {
   "cell_type": "code",
   "execution_count": null,
   "metadata": {},
   "outputs": [],
   "source": []
  },
  {
   "cell_type": "code",
   "execution_count": null,
   "metadata": {},
   "outputs": [],
   "source": [
    "df = pd.DataFrame(freqdict.items()).sort_values(by=1, ascending=False)\n",
    "df.to_csv('freq_forms.tsv', index=None, header=None, sep='\\t')"
   ]
  },
  {
   "cell_type": "code",
   "execution_count": null,
   "metadata": {},
   "outputs": [],
   "source": [
    "! head freq_forms.tsv"
   ]
  },
  {
   "cell_type": "code",
   "execution_count": 2,
   "metadata": {},
   "outputs": [],
   "source": [
    "def get_lemmas_from_xml(soup):\n",
    "\n",
    "    data_lemmas = []\n",
    "\n",
    "    for sent in soup.find_all(\"s\"):\n",
    "    \n",
    "        s1, s2, s3 = [], [], []\n",
    "    \n",
    "        for wo in sent:\n",
    "        \n",
    "            if wo.name == 'w':\n",
    "                s2.append(wo.attrs['lemma'])\n",
    "       \n",
    "            if wo.name == 'c':\n",
    "                s2.append(wo.text)\n",
    "        \n",
    "        data_lemmas.append(s2)\n",
    "    \n",
    "    return data_lemmas"
   ]
  },
  {
   "cell_type": "code",
   "execution_count": 3,
   "metadata": {},
   "outputs": [
    {
     "data": {
      "application/vnd.jupyter.widget-view+json": {
       "model_id": "ac791dd885dd4cde9651a64171d7e4b9",
       "version_major": 2,
       "version_minor": 0
      },
      "text/plain": [
       "HBox(children=(IntProgress(value=0, max=50), HTML(value='')))"
      ]
     },
     "metadata": {},
     "output_type": "display_data"
    },
    {
     "name": "stdout",
     "output_type": "stream",
     "text": [
      "\n"
     ]
    }
   ],
   "source": [
    "PATH = './translate/xml'\n",
    "texts = []\n",
    "for fname in tqdm(os.listdir(PATH)):\n",
    "    text = BeautifulSoup(open(os.path.join(PATH, fname)).read(), 'lxml')\n",
    "    texts.extend(get_lemmas_from_xml(text))"
   ]
  },
  {
   "cell_type": "code",
   "execution_count": 4,
   "metadata": {},
   "outputs": [
    {
     "data": {
      "text/plain": [
       "[['ófeigur', 'heita', 'maður', '.'],\n",
       " ['hann', 'búa', 'norður', 'í', 'miðfjörður', 'á', 'reykir', '.']]"
      ]
     },
     "execution_count": 4,
     "metadata": {},
     "output_type": "execute_result"
    }
   ],
   "source": [
    "texts = [[word.lower() for word in sent] for sent in texts]\n",
    "texts[:2]"
   ]
  },
  {
   "cell_type": "code",
   "execution_count": 5,
   "metadata": {},
   "outputs": [
    {
     "data": {
      "application/vnd.jupyter.widget-view+json": {
       "model_id": "a1d92b85a9404e5c9a70ac8f62b078e2",
       "version_major": 2,
       "version_minor": 0
      },
      "text/plain": [
       "HBox(children=(IntProgress(value=0, max=101359), HTML(value='')))"
      ]
     },
     "metadata": {},
     "output_type": "display_data"
    },
    {
     "name": "stdout",
     "output_type": "stream",
     "text": [
      "\n"
     ]
    }
   ],
   "source": [
    "freqdict = Counter()\n",
    "for text in tqdm(texts):\n",
    "    freqdict += Counter(text)\n",
    "\n",
    "df = pd.DataFrame(freqdict.items()).sort_values(by=1, ascending=False)\n",
    "df.to_csv('freq_lemmas.tsv', index=None, header=None, sep='\\t')"
   ]
  },
  {
   "cell_type": "code",
   "execution_count": 6,
   "metadata": {},
   "outputs": [
    {
     "name": "stdout",
     "output_type": "stream",
     "text": [
      ".\t97293\r\n",
      "og\t85828\r\n",
      "hann\t82793\r\n",
      "vera\t61356\r\n",
      "að\t50685\r\n",
      "það\t28374\r\n",
      "í\t26346\r\n",
      ",\t26134\r\n",
      "til\t24914\r\n",
      "en\t24049\r\n"
     ]
    }
   ],
   "source": [
    "! head freq_lemmas.tsv"
   ]
  },
  {
   "cell_type": "code",
   "execution_count": 8,
   "metadata": {},
   "outputs": [],
   "source": [
    "w2v = Word2Vec(texts, workers=-1, size=300, iter=20, min_count=15)"
   ]
  },
  {
   "cell_type": "code",
   "execution_count": 9,
   "metadata": {},
   "outputs": [
    {
     "data": {
      "text/plain": [
       "[('hamrammur', 0.24035866558551788),\n",
       " ('heimill', 0.20861855149269104),\n",
       " ('rauf', 0.20094311237335205),\n",
       " ('roskinn', 0.19731876254081726),\n",
       " ('heili', 0.1932411789894104),\n",
       " ('minnka', 0.18783366680145264),\n",
       " ('jaðar', 0.18083727359771729),\n",
       " ('dylja', 0.17953938245773315),\n",
       " ('rangur', 0.16946963965892792),\n",
       " ('stórættaður', 0.1622796356678009)]"
      ]
     },
     "execution_count": 9,
     "metadata": {},
     "output_type": "execute_result"
    }
   ],
   "source": [
    "w2v.wv.most_similar('stofa')"
   ]
  },
  {
   "cell_type": "code",
   "execution_count": 10,
   "metadata": {},
   "outputs": [],
   "source": [
    "pickle.dump(w2v, open('w2v.pkl', 'wb'))"
   ]
  }
 ],
 "metadata": {
  "kernelspec": {
   "display_name": "Python 3",
   "language": "python",
   "name": "python3"
  },
  "language_info": {
   "codemirror_mode": {
    "name": "ipython",
    "version": 3
   },
   "file_extension": ".py",
   "mimetype": "text/x-python",
   "name": "python",
   "nbconvert_exporter": "python",
   "pygments_lexer": "ipython3",
   "version": "3.6.9"
  }
 },
 "nbformat": 4,
 "nbformat_minor": 2
}
