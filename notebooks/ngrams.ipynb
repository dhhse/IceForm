{
 "cells": [
  {
   "cell_type": "code",
   "execution_count": 1,
   "metadata": {},
   "outputs": [],
   "source": [
    "from bs4 import BeautifulSoup"
   ]
  },
  {
   "cell_type": "code",
   "execution_count": 2,
   "metadata": {},
   "outputs": [],
   "source": [
    "import os\n",
    "from nltk.util import ngrams \n",
    "import nltk, re, string, collections"
   ]
  },
  {
   "cell_type": "code",
   "execution_count": 8,
   "metadata": {},
   "outputs": [],
   "source": [
    "with open('F0A.xml', 'r', encoding='utf-8') as f:\n",
    "    xml = f.read()\n",
    "    soup = BeautifulSoup(xml, 'lxml')"
   ]
  },
  {
   "cell_type": "code",
   "execution_count": 3,
   "metadata": {},
   "outputs": [],
   "source": [
    "# <s n=\"1\">\n",
    "\n",
    "def get_lemmas_from_xml(soup):\n",
    "\n",
    "    data, data_lemmas, data_morph = [], [], []\n",
    "\n",
    "    for sent in soup.find_all(\"s\"):\n",
    "    \n",
    "        s1, s2, s3 = [], [], []\n",
    "    \n",
    "        for wo in sent:\n",
    "        \n",
    "            if wo.name == 'w':\n",
    "                s1.append(wo.text)\n",
    "                s2.append(wo.attrs['lemma'])\n",
    "                s3.append(wo.attrs['type'])\n",
    "       \n",
    "            if wo.name == 'c':\n",
    "                s1.append(wo.text)\n",
    "                s2.append(wo.text)\n",
    "                s3.append(wo.text)\n",
    "        \n",
    "        data.append(s1)\n",
    "        data_lemmas.append(s2)\n",
    "    \n",
    "    return data, data_lemmas, data_morph\n",
    "    "
   ]
  },
  {
   "cell_type": "code",
   "execution_count": null,
   "metadata": {},
   "outputs": [],
   "source": [
    "data, data_lemmas, data_morph = get_lemmas_from_xml(soup)"
   ]
  },
  {
   "cell_type": "markdown",
   "metadata": {},
   "source": [
    "1 ТЕКСТ"
   ]
  },
  {
   "cell_type": "code",
   "execution_count": 54,
   "metadata": {},
   "outputs": [],
   "source": [
    "all_w = [l for i in data for l in i]\n",
    "all_w_lem = [l for i in data_lemmas for l in i]"
   ]
  },
  {
   "cell_type": "code",
   "execution_count": 101,
   "metadata": {},
   "outputs": [
    {
     "data": {
      "text/plain": [
       "['Hún', 'bjó', 'í', 'Fljótsdal', 'austur', '.']"
      ]
     },
     "execution_count": 101,
     "metadata": {},
     "output_type": "execute_result"
    }
   ],
   "source": [
    "data[1]"
   ]
  },
  {
   "cell_type": "code",
   "execution_count": 102,
   "metadata": {},
   "outputs": [
    {
     "data": {
      "text/plain": [
       "['hún', 'búa', 'í', 'Fljótsdalur', 'austur', '.']"
      ]
     },
     "execution_count": 102,
     "metadata": {},
     "output_type": "execute_result"
    }
   ],
   "source": [
    "data_lemmas[1]"
   ]
  },
  {
   "cell_type": "code",
   "execution_count": 4,
   "metadata": {},
   "outputs": [],
   "source": [
    "def top_ngrams(text, num_n, top, all_=False):\n",
    "    \n",
    "    grams = ngrams(text, num_n)\n",
    "    gram_freq = collections.Counter(grams)\n",
    "    \n",
    "    if all_: return gram_freq\n",
    "    return gram_freq.most_common(top)"
   ]
  },
  {
   "cell_type": "markdown",
   "metadata": {},
   "source": [
    "## WORDS"
   ]
  },
  {
   "cell_type": "code",
   "execution_count": 104,
   "metadata": {},
   "outputs": [
    {
     "data": {
      "text/plain": [
       "[(('því', 'að', 'eg'), 25),\n",
       " (('því', 'að', 'hann'), 22),\n",
       " (('eg', 'að', 'þú'), 15),\n",
       " (('því', 'að', 'mér'), 11),\n",
       " (('að', 'hann', 'var'), 10),\n",
       " (('Og', 'er', 'þeir'), 10),\n",
       " (('er', 'þeir', 'koma'), 10),\n",
       " (('þar', 'til', 'er'), 10),\n",
       " (('að', 'hann', 'mundi'), 10),\n",
       " (('hét', 'maður', 'Hann'), 8)]"
      ]
     },
     "execution_count": 104,
     "metadata": {},
     "output_type": "execute_result"
    }
   ],
   "source": [
    "top_ngrams(all_w, 3, 10, all_=False)"
   ]
  },
  {
   "cell_type": "code",
   "execution_count": 105,
   "metadata": {},
   "outputs": [
    {
     "data": {
      "text/plain": [
       "[(('því', 'að', 'hann', 'var'), 7),\n",
       " (('því', 'að', 'mér', 'þykir'), 6),\n",
       " (('Hann', 'bjó', 'á', 'þeim'), 5),\n",
       " (('bjó', 'á', 'þeim', 'bæ'), 5),\n",
       " (('á', 'þeim', 'bæ', 'er'), 5),\n",
       " (('þar', 'til', 'er', 'hann'), 5),\n",
       " (('sem', 'mælt', 'er', 'að'), 5),\n",
       " (('hét', 'maður', 'Hann', 'bjó'), 4),\n",
       " (('maður', 'Hann', 'bjó', 'á'), 4),\n",
       " (('Og', 'er', 'þeir', 'koma'), 4)]"
      ]
     },
     "execution_count": 105,
     "metadata": {},
     "output_type": "execute_result"
    }
   ],
   "source": [
    "top_ngrams(all_w, 4, 10, all_=False)"
   ]
  },
  {
   "cell_type": "markdown",
   "metadata": {},
   "source": [
    "## LEMMA"
   ]
  },
  {
   "cell_type": "code",
   "execution_count": 106,
   "metadata": {},
   "outputs": [
    {
     "data": {
      "text/plain": [
       "[(('að', 'hann', 'vera'), 33),\n",
       " (('það', 'að', 'hann'), 32),\n",
       " (('það', 'að', 'eg'), 28),\n",
       " (('að', 'hann', 'munu'), 26),\n",
       " (('eg', 'að', 'þú'), 21),\n",
       " (('er', 'hann', 'koma'), 19),\n",
       " (('vilja', 'eg', 'að'), 19),\n",
       " (('og', 'vera', 'hann'), 15),\n",
       " (('að', 'hann', 'hafa'), 15),\n",
       " (('að', 'það', 'vera'), 14)]"
      ]
     },
     "execution_count": 106,
     "metadata": {},
     "output_type": "execute_result"
    }
   ],
   "source": [
    "top_ngrams(all_w_lem, 3, 10, all_=False)"
   ]
  },
  {
   "cell_type": "markdown",
   "metadata": {},
   "source": [
    "* 'að', 'hann', 'vera'\n",
    "* 'að', 'hann', 'munu'\n",
    "* 'að', 'hann', 'hafa'"
   ]
  },
  {
   "cell_type": "markdown",
   "metadata": {},
   "source": [
    "* 'það', 'að', 'hann'\n",
    "* 'það', 'að', 'eg'\n",
    "* 'að', 'það', 'vera'"
   ]
  },
  {
   "cell_type": "code",
   "execution_count": 107,
   "metadata": {},
   "outputs": [
    {
     "data": {
      "text/plain": [
       "[(('vilja', 'eg', 'að', 'þú'), 15),\n",
       " (('það', 'að', 'hann', 'vera'), 12),\n",
       " (('það', 'að', 'hann', 'hafa'), 6),\n",
       " (('og', 'er', 'hann', 'koma'), 6),\n",
       " (('það', 'að', 'ég', 'þykja'), 6),\n",
       " (('hann', 'búa', 'á', 'sá'), 5),\n",
       " (('búa', 'á', 'sá', 'bær'), 5),\n",
       " (('á', 'sá', 'bær', 'er'), 5),\n",
       " (('að', 'eg', 'mega', 'eigi'), 5),\n",
       " (('það', 'að', 'það', 'vera'), 5)]"
      ]
     },
     "execution_count": 107,
     "metadata": {},
     "output_type": "execute_result"
    }
   ],
   "source": [
    "top_ngrams(all_w_lem, 4, 10, all_=False)"
   ]
  },
  {
   "cell_type": "markdown",
   "metadata": {},
   "source": [
    "* 'það', 'að', 'hann', 'vera'\n",
    "* 'það', 'að', 'hann', 'hafa'\n",
    "* 'það', 'að', 'ég', 'þykja'\n",
    "* 'það', 'að', 'það', 'vera'"
   ]
  },
  {
   "cell_type": "code",
   "execution_count": 108,
   "metadata": {},
   "outputs": [
    {
     "data": {
      "text/plain": [
       "[(('hann', 'búa', 'á', 'sá', 'bær'), 5),\n",
       " (('heita', 'maður', 'hann', 'búa', 'á'), 4),\n",
       " (('þar', 'til', 'vera', 'hann', 'koma'), 4),\n",
       " (('þar', 'búa', 'sá', 'maður', 'er'), 4),\n",
       " (('eigi', 'snemmt', 'en', 'hann', 'koma'), 4),\n",
       " (('maður', 'hann', 'búa', 'á', 'sá'), 3),\n",
       " (('búa', 'á', 'sá', 'bær', 'er'), 3),\n",
       " (('og', 'bjóða', 'hann', 'þar', 'að'), 3),\n",
       " (('spyrja', 'hver', 'hann', 'vera', 'hann'), 3),\n",
       " (('fyrir', 'jarl', 'og', 'kveðja', 'hann'), 3)]"
      ]
     },
     "execution_count": 108,
     "metadata": {},
     "output_type": "execute_result"
    }
   ],
   "source": [
    "top_ngrams(all_w_lem, 5, 10, all_=False)"
   ]
  },
  {
   "cell_type": "code",
   "execution_count": 109,
   "metadata": {},
   "outputs": [
    {
     "data": {
      "text/plain": [
       "[(('heita', 'maður', 'hann', 'búa', 'á', 'sá'), 3),\n",
       " (('maður', 'hann', 'búa', 'á', 'sá', 'bær'), 3),\n",
       " (('hann', 'búa', 'á', 'sá', 'bær', 'er'), 3),\n",
       " (('að', 'sá', 'sem', 'mæla', 'vera', 'að'), 3),\n",
       " (('þar', 'til', 'vera', 'hann', 'koma', 'á'), 3),\n",
       " (('og', 'létta', 'eigi', 'snemmt', 'en', 'hann'), 3),\n",
       " (('létta', 'eigi', 'snemmt', 'en', 'hann', 'koma'), 3),\n",
       " (('upp', 'með', 'faðir', 'sinn', 'og', 'vera'), 2),\n",
       " (('með', 'faðir', 'sinn', 'og', 'vera', 'hinn'), 2),\n",
       " (('faðir', 'sinn', 'og', 'vera', 'hinn', 'efnilegur'), 2)]"
      ]
     },
     "execution_count": 109,
     "metadata": {},
     "output_type": "execute_result"
    }
   ],
   "source": [
    "top_ngrams(all_w_lem, 6, 10, all_=False)"
   ]
  },
  {
   "cell_type": "markdown",
   "metadata": {},
   "source": [
    "## Все тексты"
   ]
  },
  {
   "cell_type": "code",
   "execution_count": 7,
   "metadata": {},
   "outputs": [],
   "source": [
    "def open_file(path):\n",
    "    with open(path, 'r', encoding='utf-8') as f:\n",
    "        xml = f.read()\n",
    "        soup = BeautifulSoup(xml, 'lxml')\n",
    "    return soup"
   ]
  },
  {
   "cell_type": "code",
   "execution_count": 18,
   "metadata": {},
   "outputs": [
    {
     "name": "stdout",
     "output_type": "stream",
     "text": [
      "F01.xml :  10913\n",
      "F02.xml :  14573\n",
      "F03.xml :  21335\n",
      "F04.xml :  114148\n",
      "F05.xml :  10572\n",
      "F06.xml :  68517\n",
      "F07.xml :  8616\n",
      "F08.xml :  42318\n",
      "F09.xml :  26515\n",
      "F0A.xml :  30405\n",
      "F0B.xml :  25231\n",
      "F0C.xml :  35644\n",
      "F0D.xml :  21154\n",
      "F0E.xml :  26196\n",
      "F0F.xml :  68362\n",
      "F0G.xml :  6678\n",
      "F0H.xml :  4725\n",
      "F0I.xml :  12102\n",
      "F0J.xml :  11599\n",
      "F0K.xml :  11058\n",
      "F0L.xml :  11147\n",
      "F0M.xml :  13099\n",
      "F0N.xml :  22159\n",
      "F0O.xml :  17340\n",
      "F0P.xml :  14546\n",
      "F0Q.xml :  10675\n",
      "F0R.xml :  10001\n",
      "F0S.xml :  12509\n",
      "F0T.xml :  3946\n",
      "F0U.xml :  11864\n",
      "F0V.xml :  12526\n",
      "F0X.xml :  63889\n",
      "F0Y.xml :  31812\n",
      "F11.xml :  8646\n",
      "F12.xml :  25420\n",
      "F13.xml :  21808\n",
      "F14.xml :  7995\n",
      "F15.xml :  32623\n",
      "F16.xml :  21529\n",
      "F17.xml :  13133\n",
      "F18.xml :  10749\n",
      "F19.xml :  17636\n",
      "F1A.xml :  3903\n",
      "F1B.xml :  5986\n",
      "F1C.xml :  3249\n",
      "F1D.xml :  124671\n",
      "F1E.xml :  253476\n",
      "F1F.xml :  286121\n",
      "F1G.xml :  43974\n"
     ]
    }
   ],
   "source": [
    "path = 'xml'\n",
    "\n",
    "all_xmls = []\n",
    "all_words = []\n",
    "all_lemmas = []\n",
    "\n",
    "\n",
    "for file_name in os.listdir(path):\n",
    "    \n",
    "    if file_name not in ('.DS_Store', 'sagHdr.xml'):\n",
    "        \n",
    "        p = path + '/' + file_name\n",
    "        soup = open_file(p)\n",
    "        data, data_lemmas, data_morph = get_lemmas_from_xml(soup)\n",
    "        all_xmls.append([data, data_lemmas, data_morph])\n",
    "        \n",
    "        all_w = [l for i in data for l in i]\n",
    "        all_w_lem = [l for i in data_lemmas for l in i]\n",
    "        \n",
    "        print(file_name,': ', str(len(all_w)))\n",
    "        \n",
    "        all_words += all_w\n",
    "        all_lemmas += all_w_lem\n",
    "    \n"
   ]
  },
  {
   "cell_type": "code",
   "execution_count": 19,
   "metadata": {},
   "outputs": [
    {
     "data": {
      "text/plain": [
       "1687093"
      ]
     },
     "execution_count": 19,
     "metadata": {},
     "output_type": "execute_result"
    }
   ],
   "source": [
    "len(all_lemmas)"
   ]
  },
  {
   "cell_type": "markdown",
   "metadata": {},
   "source": [
    "### Words"
   ]
  },
  {
   "cell_type": "code",
   "execution_count": 20,
   "metadata": {
    "scrolled": true
   },
   "outputs": [
    {
     "data": {
      "text/plain": [
       "[(('mælti', ':', '«'), 3190),\n",
       " ((',', '»', 'segir'), 2705),\n",
       " (('.', 'En', 'er'), 2358),\n",
       " (('svarar', ':', '«'), 2140),\n",
       " (('.', 'Hann', 'var'), 1867),\n",
       " (('.', 'Og', 'er'), 1575),\n",
       " (('.', '»', '«'), 1567),\n",
       " ((':', '«', 'Það'), 929),\n",
       " (('segir', ':', '«'), 926),\n",
       " (('.', 'Þá', 'mælti'), 864)]"
      ]
     },
     "execution_count": 20,
     "metadata": {},
     "output_type": "execute_result"
    }
   ],
   "source": [
    "top_ngrams(all_words, 3, 10, all_=False)"
   ]
  },
  {
   "cell_type": "code",
   "execution_count": 21,
   "metadata": {},
   "outputs": [
    {
     "data": {
      "text/plain": [
       "[((',', '»', 'segir', 'hann', ','), 541),\n",
       " (('»', 'segir', 'hann', ',', '«'), 539),\n",
       " ((',', '»', 'segir', 'hann', '.'), 215),\n",
       " (('.', 'En', 'er', 'þeir', 'komu'), 193),\n",
       " (('»', 'Hann', 'svarar', ':', '«'), 188),\n",
       " ((',', '»', 'sagði', 'hann', ','), 172),\n",
       " (('»', 'sagði', 'hann', ',', '«'), 172),\n",
       " ((',', '»', 'segir', 'hún', ','), 166),\n",
       " (('»', 'segir', 'hún', ',', '«'), 165),\n",
       " (('segir', 'hann', ',', '«', 'að'), 158)]"
      ]
     },
     "execution_count": 21,
     "metadata": {},
     "output_type": "execute_result"
    }
   ],
   "source": [
    "top_ngrams(all_words, 5, 10, all_=False)"
   ]
  },
  {
   "cell_type": "code",
   "execution_count": 27,
   "metadata": {},
   "outputs": [
    {
     "data": {
      "text/plain": [
       "[((',', '»', 'segir', 'hann', ',', '«', 'að'), 156),\n",
       " ((',', '»', 'sagði', 'hann', ',', '«', 'að'), 68),\n",
       " (('eg', ',', '»', 'segir', 'hann', ',', '«'), 66),\n",
       " ((',', '»', 'segir', 'hann', ',', '«', 'og'), 65),\n",
       " ((',', '»', 'segir', 'hún', ',', '«', 'að'), 46),\n",
       " (('.', 'Nú', 'er', 'þar', 'til', 'að', 'taka'), 35),\n",
       " (('Nú', 'er', 'þar', 'til', 'máls', 'að', 'taka'), 35),\n",
       " ((',', '»', 'segir', 'hann', ',', '«', 'en'), 31),\n",
       " ((',', '»', 'segir', 'hún', ',', '«', 'og'), 31),\n",
       " (('.', 'Nú', 'er', 'þar', 'til', 'máls', 'að'), 31)]"
      ]
     },
     "execution_count": 27,
     "metadata": {},
     "output_type": "execute_result"
    }
   ],
   "source": [
    "top_ngrams(all_words, 7, 10, all_=False)"
   ]
  },
  {
   "cell_type": "markdown",
   "metadata": {},
   "source": [
    "### Lemmas"
   ]
  },
  {
   "cell_type": "code",
   "execution_count": 24,
   "metadata": {},
   "outputs": [
    {
     "data": {
      "text/plain": [
       "[((',', '»', 'segja'), 3567),\n",
       " (('mæla', ':', '«'), 3213),\n",
       " (('.', 'hann', 'vera'), 2402),\n",
       " (('svara', ':', '«'), 2362),\n",
       " (('.', 'en', 'er'), 2045),\n",
       " (('.', '»', '«'), 1567),\n",
       " (('það', 'að', 'hann'), 1314),\n",
       " (('er', 'hann', 'koma'), 1204),\n",
       " (('»', 'segja', 'hann'), 1154),\n",
       " (('.', 'það', 'vera'), 1152)]"
      ]
     },
     "execution_count": 24,
     "metadata": {},
     "output_type": "execute_result"
    }
   ],
   "source": [
    "top_ngrams(all_lemmas, 3, 10, all_=False)"
   ]
  },
  {
   "cell_type": "code",
   "execution_count": 25,
   "metadata": {},
   "outputs": [
    {
     "data": {
      "text/plain": [
       "[((',', '»', 'segja', 'hann', ','), 756),\n",
       " (('»', 'segja', 'hann', ',', '«'), 754),\n",
       " (('.', 'en', 'er', 'hann', 'koma'), 369),\n",
       " ((',', '»', 'segja', 'hann', '.'), 298),\n",
       " (('.', 'og', 'er', 'hann', 'koma'), 261),\n",
       " (('segja', 'hann', ',', '«', 'að'), 234),\n",
       " (('»', 'hann', 'svara', ':', '«'), 220),\n",
       " ((',', '»', 'segja', 'hún', ','), 202),\n",
       " (('»', 'segja', 'hún', ',', '«'), 201),\n",
       " (('þar', 'til', 'er', 'hann', 'koma'), 157)]"
      ]
     },
     "execution_count": 25,
     "metadata": {},
     "output_type": "execute_result"
    }
   ],
   "source": [
    "top_ngrams(all_lemmas, 5, 10, all_=False)"
   ]
  },
  {
   "cell_type": "code",
   "execution_count": 26,
   "metadata": {},
   "outputs": [
    {
     "data": {
      "text/plain": [
       "[((',', '»', 'segja', 'hann', ',', '«', 'að'), 232),\n",
       " ((',', '»', 'segja', 'hann', ',', '«', 'og'), 99),\n",
       " (('eg', ',', '»', 'segja', 'hann', ',', '«'), 83),\n",
       " ((',', '»', 'segja', 'hún', ',', '«', 'að'), 57),\n",
       " (('»', 'segja', 'hann', ',', '«', 'að', 'þú'), 46),\n",
       " (('»', 'segja', 'hann', ',', '«', 'að', 'eg'), 43),\n",
       " ((',', '»', 'segja', 'hann', ',', '«', 'en'), 42),\n",
       " (('.', '»', 'og', 'svo', 'gera', 'hann', '.'), 41),\n",
       " (('og', 'létta', 'eigi', 'snemmt', 'en', 'hann', 'koma'), 39),\n",
       " ((',', '»', 'segja', 'hún', ',', '«', 'og'), 39)]"
      ]
     },
     "execution_count": 26,
     "metadata": {},
     "output_type": "execute_result"
    }
   ],
   "source": [
    "top_ngrams(all_lemmas, 7, 10, all_=False)"
   ]
  },
  {
   "cell_type": "code",
   "execution_count": null,
   "metadata": {},
   "outputs": [],
   "source": []
  }
 ],
 "metadata": {
  "kernelspec": {
   "display_name": "Python 3",
   "language": "python",
   "name": "python3"
  },
  "language_info": {
   "codemirror_mode": {
    "name": "ipython",
    "version": 3
   },
   "file_extension": ".py",
   "mimetype": "text/x-python",
   "name": "python",
   "nbconvert_exporter": "python",
   "pygments_lexer": "ipython3",
   "version": "3.6.5"
  }
 },
 "nbformat": 4,
 "nbformat_minor": 2
}
